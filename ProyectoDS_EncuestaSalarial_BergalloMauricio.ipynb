{
 "cells": [
  {
   "cell_type": "code",
   "execution_count": 1,
   "metadata": {},
   "outputs": [],
   "source": [
    "import pandas as pd\n",
    "import numpy as np\n",
    "import matplotlib.pyplot as plt\n",
    "import seaborn as sns\n",
    "from sklearn.preprocessing import OneHotEncoder, LabelEncoder\n",
    "import math\n",
    "import missingno as msno"
   ]
  },
  {
   "cell_type": "markdown",
   "metadata": {},
   "source": [
    "# Funciones de Soporte (Helpers)"
   ]
  },
  {
   "cell_type": "code",
   "execution_count": 2,
   "metadata": {},
   "outputs": [],
   "source": [
    "def map_languages(row) -> pd.Series:\n",
    "    \"\"\"\n",
    "    En este método vamos a emular un OneHot encoding pero a mano.\n",
    "    Recibe como parámetro el registro y devuelve el nuevo registro actualizado\n",
    "    \"\"\"\n",
    "    # print(row['lenguajes_array'])\n",
    "    languages = (row['lenguajes_array'])\n",
    "    errors = 0\n",
    "    try:\n",
    "      for l in languages:\n",
    "        if l != '':\n",
    "          row[str.lower(l)] = 1\n",
    "        else:\n",
    "          errors += 1 # El lenguaje es '' string :(\n",
    "    except:\n",
    "      errors += 1\n",
    "\n",
    "    # print('Count Errors:', errors)\n",
    "    return row"
   ]
  },
  {
   "cell_type": "markdown",
   "metadata": {},
   "source": [
    "# Trabajo Final\n",
    "\n",
    "### Hipótesis\n",
    "\n",
    "- Pregunta #1: Que salario o rango debería asignarle basado en mis variables?\n",
    "    - Años de Experiencia / Seniority\n",
    "    - Tecnologías (Lenguajes de Programación)\n",
    "    - Lugar de Residencia\n",
    "    - Dedicación\n",
    "    - Estudios alcanzados\n",
    "    - Posición\n",
    "    - Tipo de Contrato"
   ]
  },
  {
   "cell_type": "markdown",
   "metadata": {},
   "source": [
    "## Limpeza de Datos y Armado de DataSet (Data Wrangling)"
   ]
  },
  {
   "cell_type": "code",
   "execution_count": 3,
   "metadata": {},
   "outputs": [
    {
     "name": "stdout",
     "output_type": "stream",
     "text": [
      "<class 'pandas.core.frame.DataFrame'>\n",
      "RangeIndex: 5490 entries, 0 to 5489\n",
      "Data columns (total 48 columns):\n",
      " #   Column                                                                                Non-Null Count  Dtype  \n",
      "---  ------                                                                                --------------  -----  \n",
      " 0   lugar_residencia                                                                      5490 non-null   object \n",
      " 1   dedicacion                                                                            5490 non-null   object \n",
      " 2   tipo_de_contrato                                                                      5490 non-null   object \n",
      " 3   ultimo_salario_mensual_o_retiro_bruto_en_pesos_argentinos                             5490 non-null   int64  \n",
      " 4   ultimo_salario_mensual_o_retiro_neto_en_pesos_argentinos                              5214 non-null   float64\n",
      " 5   pagos_en_dolares                                                                      2100 non-null   object \n",
      " 6   si_tu_sueldo_esta_dolarizado_cual_fue_el_ultimo_valor_del_dolar_que_tomaron           1313 non-null   object \n",
      " 7   recibis_algun_tipo_de_bono                                                            5490 non-null   object \n",
      " 8   a_que_esta_atado_el_bono                                                              5490 non-null   object \n",
      " 9   tuviste_actualizaciones_de_tus_ingresos_laborales_durante_2024                        5490 non-null   object \n",
      " 10  de_que_fue_el_ajuste_total_acumulado                                                  5490 non-null   int64  \n",
      " 11  en_que_mes_fue_el_ultimo_ajuste                                                       5490 non-null   object \n",
      " 12  como_consideras_que_estan_tus_ingresos_laborales_comparados_con_el_semestre_anterior  5490 non-null   int64  \n",
      " 13  contas_con_beneficios_adicionales                                                     5490 non-null   object \n",
      " 14  que_tan_conforme_estas_con_tus_ingresos_laborales                                     5490 non-null   int64  \n",
      " 15  estas_buscando_trabajo                                                                5490 non-null   object \n",
      " 16  posicion                                                                              5490 non-null   object \n",
      " 17  anos_de_experiencia                                                                   5490 non-null   int64  \n",
      " 18  antiguedad_en_la_empresa_actual                                                       5490 non-null   int64  \n",
      " 19  anos_en_el_puesto_actual                                                              5490 non-null   int64  \n",
      " 20  cuantas_personas_tenes_a_cargo                                                        5490 non-null   int64  \n",
      " 21  plataformas_que_utilizas_en_tu_puesto_actual                                          5489 non-null   object \n",
      " 22  lenguajes                                                                             5488 non-null   object \n",
      " 23  frameworksherramientas_y_librerias_que_utilices_en_tu_puesto_actual                   5489 non-null   object \n",
      " 24  bases_de_datos                                                                        5488 non-null   object \n",
      " 25  qa_testing                                                                            5488 non-null   object \n",
      " 26  cantidad_de_personas_en_tu_organizacion                                               5490 non-null   object \n",
      " 27  modalidad_de_trabajo                                                                  5490 non-null   object \n",
      " 28  si_trabajas_bajo_un_esquema_hibrido_cuantos_dias_a_la_semana_vas_a_la_oficina         5490 non-null   int64  \n",
      " 29  en_los_ultimos_6_mesesse_aplico_alguna_politica_de_ajustes_salariales                 3118 non-null   object \n",
      " 30  en_los_ultimos_6_meseshubo_reduccion_de_personal                                      5490 non-null   object \n",
      " 31  la_recomendas_como_un_buen_lugar_para_trabajar                                        5490 non-null   int64  \n",
      " 32  que_tanto_estas_usando_copilotchatgpt_u_otras_herramientas_de_ia_para_tu_trabajo      5490 non-null   int64  \n",
      " 33  salir_o_seguir_contestando                                                            5490 non-null   object \n",
      " 34  maximo_nivel_de_estudios                                                              2567 non-null   object \n",
      " 35  estado                                                                                2567 non-null   object \n",
      " 36  carrera                                                                               2479 non-null   object \n",
      " 37  institucion_educativa                                                                 2009 non-null   object \n",
      " 38  salir_o_seguir_contestando_sobre_las_guardias                                         2567 non-null   object \n",
      " 39  tenes_guardias                                                                        1726 non-null   object \n",
      " 40  cuanto_cobras_por_guardia                                                             1726 non-null   float64\n",
      " 41  aclara_el_numero_que_ingresaste_en_el_campo_anterior                                  1726 non-null   object \n",
      " 42  salir_o_seguir_contestando_sobre_estudios                                             1726 non-null   object \n",
      " 43  tengo_edad                                                                            5490 non-null   int64  \n",
      " 44  genero                                                                                5489 non-null   object \n",
      " 45  sueldo_dolarizado                                                                     5490 non-null   bool   \n",
      " 46  seniority                                                                             5490 non-null   object \n",
      " 47  salario                                                                               5490 non-null   int64  \n",
      "dtypes: bool(1), float64(2), int64(13), object(32)\n",
      "memory usage: 2.0+ MB\n"
     ]
    }
   ],
   "source": [
    "# tomamos el DataSet y hacemos un poco de limpieza\n",
    "#   -> Renombrar columnas para mejorar su legibilidad\n",
    "#   -> Removemos algunas columnas que no son necesarios\n",
    "\n",
    "df_salary = pd.read_csv('https://raw.githubusercontent.com/mauriciobergallo/coderhouse-datascience/refs/heads/main/datasets/encuesta-salarial-2024.csv', skiprows=0,\n",
    "                        thousands=\".\",\n",
    "                        decimal=\",\",)\n",
    "df_salary.rename(columns={'Unnamed: 0': 'indice', '_sal': 'salario', \\\n",
    "    'lenguajes_de_programacion_o_tecnologias_que_utilices_en_tu_puesto_actual': 'lenguajes', \\\n",
    "    'donde_estas_trabajando': 'lugar_residencia', 'trabajo_de': 'posicion'}, inplace=True)\n",
    "df_salary.drop(columns={'indice'}, inplace=True)\n",
    "\n",
    "df_salary.info()"
   ]
  },
  {
   "cell_type": "code",
   "execution_count": 4,
   "metadata": {},
   "outputs": [
    {
     "name": "stdout",
     "output_type": "stream",
     "text": [
      "<class 'pandas.core.frame.DataFrame'>\n",
      "RangeIndex: 5490 entries, 0 to 5489\n",
      "Data columns (total 9 columns):\n",
      " #   Column                    Non-Null Count  Dtype \n",
      "---  ------                    --------------  ----- \n",
      " 0   lugar_residencia          5490 non-null   object\n",
      " 1   dedicacion                5490 non-null   object\n",
      " 2   tipo_de_contrato          5490 non-null   object\n",
      " 3   posicion                  5490 non-null   object\n",
      " 4   anos_de_experiencia       5490 non-null   int64 \n",
      " 5   lenguajes                 5488 non-null   object\n",
      " 6   maximo_nivel_de_estudios  2567 non-null   object\n",
      " 7   seniority                 5490 non-null   object\n",
      " 8   salario                   5490 non-null   int64 \n",
      "dtypes: int64(2), object(7)\n",
      "memory usage: 386.1+ KB\n"
     ]
    }
   ],
   "source": [
    "# Removemos algunas columnas que no vamos a tener en cuenta\n",
    "df_salary.drop(columns={\n",
    "    'bases_de_datos',\n",
    "    'ultimo_salario_mensual_o_retiro_bruto_en_pesos_argentinos',\n",
    "    'ultimo_salario_mensual_o_retiro_neto_en_pesos_argentinos',\n",
    "    'pagos_en_dolares',\n",
    "    'si_tu_sueldo_esta_dolarizado_cual_fue_el_ultimo_valor_del_dolar_que_tomaron',\n",
    "    'recibis_algun_tipo_de_bono',\n",
    "    'a_que_esta_atado_el_bono',\n",
    "    'tuviste_actualizaciones_de_tus_ingresos_laborales_durante_2024',\n",
    "    'de_que_fue_el_ajuste_total_acumulado',\n",
    "    'en_que_mes_fue_el_ultimo_ajuste',\n",
    "    'como_consideras_que_estan_tus_ingresos_laborales_comparados_con_el_semestre_anterior',\n",
    "    'contas_con_beneficios_adicionales',\n",
    "    'que_tan_conforme_estas_con_tus_ingresos_laborales',\n",
    "    'estas_buscando_trabajo',\n",
    "    'antiguedad_en_la_empresa_actual',\n",
    "    'cuantas_personas_tenes_a_cargo',\n",
    "    'plataformas_que_utilizas_en_tu_puesto_actual',\n",
    "    'frameworksherramientas_y_librerias_que_utilices_en_tu_puesto_actual',\n",
    "    'qa_testing',\n",
    "    'cantidad_de_personas_en_tu_organizacion',\n",
    "    'modalidad_de_trabajo',\n",
    "    'si_trabajas_bajo_un_esquema_hibrido_cuantos_dias_a_la_semana_vas_a_la_oficina',\n",
    "    'en_los_ultimos_6_mesesse_aplico_alguna_politica_de_ajustes_salariales',\n",
    "    'en_los_ultimos_6_meseshubo_reduccion_de_personal',\n",
    "    'la_recomendas_como_un_buen_lugar_para_trabajar',\n",
    "    'que_tanto_estas_usando_copilotchatgpt_u_otras_herramientas_de_ia_para_tu_trabajo',\n",
    "    'anos_en_el_puesto_actual',\n",
    "    'salir_o_seguir_contestando',\n",
    "    'estado',\n",
    "    'carrera',\n",
    "    'institucion_educativa',\n",
    "    'salir_o_seguir_contestando_sobre_las_guardias',\n",
    "    'tenes_guardias',\n",
    "    'cuanto_cobras_por_guardia',\n",
    "    'aclara_el_numero_que_ingresaste_en_el_campo_anterior',\n",
    "    'salir_o_seguir_contestando_sobre_estudios',\n",
    "    'tengo_edad',\n",
    "    'genero',\n",
    "    'sueldo_dolarizado'\n",
    "}, inplace=True)\n",
    "\n",
    "df_salary.info()"
   ]
  },
  {
   "cell_type": "code",
   "execution_count": 5,
   "metadata": {},
   "outputs": [
    {
     "name": "stdout",
     "output_type": "stream",
     "text": [
      "<class 'pandas.core.frame.DataFrame'>\n",
      "RangeIndex: 5490 entries, 0 to 5489\n",
      "Data columns (total 9 columns):\n",
      " #   Column                    Non-Null Count  Dtype   \n",
      "---  ------                    --------------  -----   \n",
      " 0   lugar_residencia          5490 non-null   category\n",
      " 1   dedicacion                5490 non-null   category\n",
      " 2   tipo_de_contrato          5490 non-null   category\n",
      " 3   posicion                  5490 non-null   object  \n",
      " 4   anos_de_experiencia       5490 non-null   int64   \n",
      " 5   lenguajes                 5488 non-null   object  \n",
      " 6   maximo_nivel_de_estudios  2567 non-null   category\n",
      " 7   seniority                 5490 non-null   category\n",
      " 8   salario                   5490 non-null   int64   \n",
      "dtypes: category(5), int64(2), object(2)\n",
      "memory usage: 200.0+ KB\n"
     ]
    }
   ],
   "source": [
    "# Categorizar columnas\n",
    "#   -> Dedicación\n",
    "#   -> TipoDeContrato\n",
    "#   -> MaximoNivelDeEstudio\n",
    "#   -> Seniority\n",
    "df_salary['dedicacion'] = df_salary['dedicacion'].astype('category')\n",
    "df_salary['tipo_de_contrato'] = df_salary['tipo_de_contrato'].astype('category')\n",
    "df_salary['maximo_nivel_de_estudios'] = df_salary['maximo_nivel_de_estudios'].astype('category')\n",
    "df_salary['seniority'] = df_salary['seniority'].astype('category')\n",
    "df_salary['lugar_residencia'] = df_salary['lugar_residencia'].astype('category')\n",
    "\n",
    "df_salary.info()"
   ]
  },
  {
   "cell_type": "code",
   "execution_count": 6,
   "metadata": {},
   "outputs": [
    {
     "data": {
      "text/plain": [
       "lugar_residencia               0\n",
       "dedicacion                     0\n",
       "tipo_de_contrato               0\n",
       "posicion                       0\n",
       "anos_de_experiencia            0\n",
       "lenguajes                      2\n",
       "maximo_nivel_de_estudios    2923\n",
       "seniority                      0\n",
       "salario                        0\n",
       "dtype: int64"
      ]
     },
     "execution_count": 6,
     "metadata": {},
     "output_type": "execute_result"
    }
   ],
   "source": [
    "# Verificamos la cantidad de NaN en el DataFrame \n",
    "df_salary.isna().sum()"
   ]
  },
  {
   "cell_type": "markdown",
   "metadata": {},
   "source": [
    "Nota: Vemos que hay 2 NaN para 'lenguajes' y 2923 para 'maximo_nivel_de_estudio',  por lo cual usaremos dos técnicas distintas, eliminar los registros para los cuales lenguajes es NaN (sabemos que no nos sirven debido a que vamos a utilizar los lenguajes como campo para predecir), y en el caso de 'maximmo_nivel_de_estudios' tomamos la MODA de la columna. "
   ]
  },
  {
   "cell_type": "code",
   "execution_count": 7,
   "metadata": {},
   "outputs": [
    {
     "data": {
      "text/html": [
       "<div>\n",
       "<style scoped>\n",
       "    .dataframe tbody tr th:only-of-type {\n",
       "        vertical-align: middle;\n",
       "    }\n",
       "\n",
       "    .dataframe tbody tr th {\n",
       "        vertical-align: top;\n",
       "    }\n",
       "\n",
       "    .dataframe thead th {\n",
       "        text-align: right;\n",
       "    }\n",
       "</style>\n",
       "<table border=\"1\" class=\"dataframe\">\n",
       "  <thead>\n",
       "    <tr style=\"text-align: right;\">\n",
       "      <th></th>\n",
       "      <th>lugar_residencia</th>\n",
       "      <th>dedicacion</th>\n",
       "      <th>tipo_de_contrato</th>\n",
       "      <th>posicion</th>\n",
       "      <th>anos_de_experiencia</th>\n",
       "      <th>lenguajes</th>\n",
       "      <th>maximo_nivel_de_estudios</th>\n",
       "      <th>seniority</th>\n",
       "      <th>salario</th>\n",
       "    </tr>\n",
       "  </thead>\n",
       "  <tbody>\n",
       "    <tr>\n",
       "      <th>2195</th>\n",
       "      <td>Ciudad Autónoma de Buenos Aires</td>\n",
       "      <td>Full-Time</td>\n",
       "      <td>Staff (planta permanente)</td>\n",
       "      <td>Infosec</td>\n",
       "      <td>1</td>\n",
       "      <td>NaN</td>\n",
       "      <td>Universitario</td>\n",
       "      <td>Junior</td>\n",
       "      <td>1371000</td>\n",
       "    </tr>\n",
       "    <tr>\n",
       "      <th>4163</th>\n",
       "      <td>Ciudad Autónoma de Buenos Aires</td>\n",
       "      <td>Full-Time</td>\n",
       "      <td>Staff (planta permanente)</td>\n",
       "      <td>Scrum Master</td>\n",
       "      <td>10</td>\n",
       "      <td>NaN</td>\n",
       "      <td>NaN</td>\n",
       "      <td>Senior</td>\n",
       "      <td>3109560</td>\n",
       "    </tr>\n",
       "  </tbody>\n",
       "</table>\n",
       "</div>"
      ],
      "text/plain": [
       "                     lugar_residencia dedicacion           tipo_de_contrato  \\\n",
       "2195  Ciudad Autónoma de Buenos Aires  Full-Time  Staff (planta permanente)   \n",
       "4163  Ciudad Autónoma de Buenos Aires  Full-Time  Staff (planta permanente)   \n",
       "\n",
       "          posicion  anos_de_experiencia lenguajes maximo_nivel_de_estudios  \\\n",
       "2195       Infosec                    1       NaN            Universitario   \n",
       "4163  Scrum Master                   10       NaN                      NaN   \n",
       "\n",
       "     seniority  salario  \n",
       "2195    Junior  1371000  \n",
       "4163    Senior  3109560  "
      ]
     },
     "execution_count": 7,
     "metadata": {},
     "output_type": "execute_result"
    }
   ],
   "source": [
    "# Mostramos las filas a borrar\n",
    "df_filas_a_borrar = df_salary.loc[df_salary['lenguajes'].isna()]\n",
    "df_filas_a_borrar"
   ]
  },
  {
   "cell_type": "code",
   "execution_count": 8,
   "metadata": {},
   "outputs": [],
   "source": [
    "# Eliminamos dichas filas\n",
    "df_filas_a_borrar.index\n",
    "df_salary.drop(index=df_filas_a_borrar.index, inplace=True)"
   ]
  },
  {
   "cell_type": "code",
   "execution_count": 9,
   "metadata": {},
   "outputs": [
    {
     "data": {
      "text/plain": [
       "0    Universitario\n",
       "Name: maximo_nivel_de_estudios, dtype: category\n",
       "Categories (8, object): ['Doctorado', 'Maestría', 'Posdoctorado', 'Posgrado/Especialización', 'Primario', 'Secundario', 'Terciario', 'Universitario']"
      ]
     },
     "execution_count": 9,
     "metadata": {},
     "output_type": "execute_result"
    }
   ],
   "source": [
    "# Calculamos la moda de 'maximo_nivel_de_educacion' para reemplazar en los valores nulos \n",
    "df_salary['maximo_nivel_de_estudios'].mode()"
   ]
  },
  {
   "cell_type": "code",
   "execution_count": 14,
   "metadata": {},
   "outputs": [],
   "source": [
    "# Reemplazamos los valores NaN con la MODA\n",
    "df_salary.fillna(value={ 'maximo_nivel_de_estudios': 'Universitario' }, inplace=True)"
   ]
  },
  {
   "cell_type": "code",
   "execution_count": 15,
   "metadata": {},
   "outputs": [
    {
     "data": {
      "text/plain": [
       "lugar_residencia            0\n",
       "dedicacion                  0\n",
       "tipo_de_contrato            0\n",
       "posicion                    0\n",
       "anos_de_experiencia         0\n",
       "lenguajes                   0\n",
       "maximo_nivel_de_estudios    0\n",
       "seniority                   0\n",
       "salario                     0\n",
       "dtype: int64"
      ]
     },
     "execution_count": 15,
     "metadata": {},
     "output_type": "execute_result"
    }
   ],
   "source": [
    "# Volvemos a listar los NaN\n",
    "df_salary.isna().sum()"
   ]
  },
  {
   "cell_type": "code",
   "execution_count": 16,
   "metadata": {},
   "outputs": [
    {
     "data": {
      "text/html": [
       "<div>\n",
       "<style scoped>\n",
       "    .dataframe tbody tr th:only-of-type {\n",
       "        vertical-align: middle;\n",
       "    }\n",
       "\n",
       "    .dataframe tbody tr th {\n",
       "        vertical-align: top;\n",
       "    }\n",
       "\n",
       "    .dataframe thead th {\n",
       "        text-align: right;\n",
       "    }\n",
       "</style>\n",
       "<table border=\"1\" class=\"dataframe\">\n",
       "  <thead>\n",
       "    <tr style=\"text-align: right;\">\n",
       "      <th></th>\n",
       "      <th>lugar_residencia</th>\n",
       "      <th>dedicacion</th>\n",
       "      <th>tipo_de_contrato</th>\n",
       "      <th>posicion</th>\n",
       "      <th>anos_de_experiencia</th>\n",
       "      <th>lenguajes</th>\n",
       "      <th>maximo_nivel_de_estudios</th>\n",
       "      <th>seniority</th>\n",
       "      <th>salario</th>\n",
       "    </tr>\n",
       "  </thead>\n",
       "  <tbody>\n",
       "    <tr>\n",
       "      <th>2953</th>\n",
       "      <td>Ciudad Autónoma de Buenos Aires</td>\n",
       "      <td>Full-Time</td>\n",
       "      <td>Staff (planta permanente)</td>\n",
       "      <td>Data Engineer</td>\n",
       "      <td>5.0</td>\n",
       "      <td>Bash/Shell, Python, Scala</td>\n",
       "      <td>Universitario</td>\n",
       "      <td>Semi-Senior</td>\n",
       "      <td>2200000.0</td>\n",
       "    </tr>\n",
       "    <tr>\n",
       "      <th>2954</th>\n",
       "      <td>Ciudad Autónoma de Buenos Aires</td>\n",
       "      <td>Part-Time</td>\n",
       "      <td>Staff (planta permanente)</td>\n",
       "      <td>Developer</td>\n",
       "      <td>4.0</td>\n",
       "      <td>Bash/Shell, CSS, HTML, Java, Javascript, Scala...</td>\n",
       "      <td>Universitario</td>\n",
       "      <td>Semi-Senior</td>\n",
       "      <td>1700000.0</td>\n",
       "    </tr>\n",
       "    <tr>\n",
       "      <th>2955</th>\n",
       "      <td>Buenos Aires</td>\n",
       "      <td>Full-Time</td>\n",
       "      <td>Tercerizado (trabajo a través de consultora o ...</td>\n",
       "      <td>Developer</td>\n",
       "      <td>5.0</td>\n",
       "      <td>CSS, HTML, Javascript, TypeScript</td>\n",
       "      <td>Terciario</td>\n",
       "      <td>Semi-Senior</td>\n",
       "      <td>2500000.0</td>\n",
       "    </tr>\n",
       "    <tr>\n",
       "      <th>2956</th>\n",
       "      <td>Ciudad Autónoma de Buenos Aires</td>\n",
       "      <td>Full-Time</td>\n",
       "      <td>Staff (planta permanente)</td>\n",
       "      <td>Technical Leader</td>\n",
       "      <td>30.0</td>\n",
       "      <td>SQL</td>\n",
       "      <td>Universitario</td>\n",
       "      <td>Senior</td>\n",
       "      <td>4000000.0</td>\n",
       "    </tr>\n",
       "    <tr>\n",
       "      <th>2957</th>\n",
       "      <td>Buenos Aires</td>\n",
       "      <td>Full-Time</td>\n",
       "      <td>Staff (planta permanente)</td>\n",
       "      <td>Developer</td>\n",
       "      <td>5.0</td>\n",
       "      <td>HTML, Javascript, PHP, Rust, SQL</td>\n",
       "      <td>Universitario</td>\n",
       "      <td>Semi-Senior</td>\n",
       "      <td>1290000.0</td>\n",
       "    </tr>\n",
       "  </tbody>\n",
       "</table>\n",
       "</div>"
      ],
      "text/plain": [
       "                     lugar_residencia dedicacion  \\\n",
       "2953  Ciudad Autónoma de Buenos Aires  Full-Time   \n",
       "2954  Ciudad Autónoma de Buenos Aires  Part-Time   \n",
       "2955                     Buenos Aires  Full-Time   \n",
       "2956  Ciudad Autónoma de Buenos Aires  Full-Time   \n",
       "2957                     Buenos Aires  Full-Time   \n",
       "\n",
       "                                       tipo_de_contrato          posicion  \\\n",
       "2953                          Staff (planta permanente)     Data Engineer   \n",
       "2954                          Staff (planta permanente)         Developer   \n",
       "2955  Tercerizado (trabajo a través de consultora o ...         Developer   \n",
       "2956                          Staff (planta permanente)  Technical Leader   \n",
       "2957                          Staff (planta permanente)         Developer   \n",
       "\n",
       "      anos_de_experiencia                                          lenguajes  \\\n",
       "2953                  5.0                          Bash/Shell, Python, Scala   \n",
       "2954                  4.0  Bash/Shell, CSS, HTML, Java, Javascript, Scala...   \n",
       "2955                  5.0                  CSS, HTML, Javascript, TypeScript   \n",
       "2956                 30.0                                                SQL   \n",
       "2957                  5.0                   HTML, Javascript, PHP, Rust, SQL   \n",
       "\n",
       "     maximo_nivel_de_estudios    seniority    salario  \n",
       "2953            Universitario  Semi-Senior  2200000.0  \n",
       "2954            Universitario  Semi-Senior  1700000.0  \n",
       "2955                Terciario  Semi-Senior  2500000.0  \n",
       "2956            Universitario       Senior  4000000.0  \n",
       "2957            Universitario  Semi-Senior  1290000.0  "
      ]
     },
     "execution_count": 16,
     "metadata": {},
     "output_type": "execute_result"
    }
   ],
   "source": [
    "# Filtramos posiciones relacionadas a desarrollo web\n",
    "\n",
    "profession_filter = ['Developer', 'Technical Leader', 'Data Engineer', 'Automatizador', \\\n",
    "    'Consultant', 'Data Scientist', 'Architect', 'Engineer', 'Machine Learning Engineer', \\\n",
    "        'Analista Senior en Informatica', 'AI Engineer', 'Operaciones', \\\n",
    "            'Hago desde el análisis y la programación. Diseño de DB, etc', 'Analista Tecnico Funcional', \\\n",
    "                'Ingenieria Electronica', 'Técnico en informática']\n",
    "\n",
    "df_salary.where(df_salary['posicion'].isin(profession_filter), inplace=True)\n",
    "\n",
    "# Reindexamos para evitar problemas de índice\n",
    "df_salary = df_salary.dropna().reset_index(drop=True)\n",
    "df_salary.tail()\n"
   ]
  },
  {
   "cell_type": "code",
   "execution_count": 17,
   "metadata": {},
   "outputs": [],
   "source": [
    "# Actualmente los lenguajes de programación vienen en un string separados por coma y espacio (', '); por ende, vamos a separarlos en un array y \n",
    "# usarlos como columnas\n",
    "\n",
    "# Para ello:\n",
    "# Spliteamos los lenguajes de programación en un array dentro de la columna nueva lenguajes_array\n",
    "df_salary['lenguajes_array'] = df_salary['lenguajes'] \\\n",
    "    .apply(func=(lambda x: str(x).split(', ')))\n",
    "\n",
    "# Con este pedazo de código lo que hacemos es crear las columnas de los lenguajes de programación,\n",
    "# además lo limpiamos un poco\n",
    "languages_list = df_salary['lenguajes_array'].to_list()\n",
    "\n",
    "df_languages = pd.DataFrame(languages_list)\n",
    "unique_languages = pd.unique(np.char.lower(df_languages.stack().to_numpy().tolist()))\n",
    "\n",
    "df_unique_languages = pd.DataFrame(unique_languages).replace('', np.nan).dropna()\n",
    "unique_languages_list = pd.unique(np.char.lower(df_unique_languages.stack().to_numpy().tolist()))\n",
    "\n",
    "lenguages_columns_length = unique_languages_list.shape[0]\n",
    "lenguages_rows_length = df_salary.shape[0]\n",
    "\n",
    "languages_df = pd.DataFrame(np.zeros((lenguages_rows_length, lenguages_columns_length)), columns=unique_languages_list)\n",
    "final_df = pd.concat([df_salary, languages_df], axis=1)"
   ]
  },
  {
   "cell_type": "code",
   "execution_count": 18,
   "metadata": {},
   "outputs": [],
   "source": [
    "# Aplicamos la función map_languages, que simula un OneHotEncoder a mano\n",
    "final_df_encoded = final_df.apply(map_languages, axis=1)\n",
    "\n",
    "# Mostramos un poco los resultados...\n",
    "final_df_encoded[['lenguajes', 'html', 'javascript', 'c#', 'seniority', 'anos_de_experiencia', 'tipo_de_contrato', 'salario']].head()\n",
    "\n",
    "# Creo un nuevo CSV con las columnas para verlas mejor y poder elegir cual eliminar y cual no\n",
    "# df_columns_to_clean = final_df_encoded.columns.to_frame()\n",
    "# df_columns_to_clean.to_csv('./datasets/coolumns_for_cleaning.csv')\n",
    "\n",
    "# Elimino nuevamente algunas columnas que considero \"no útiles\"\n",
    "final_df_encoded.drop(columns={\n",
    "    'ninguno de los anteriores',\n",
    "    'relacionados a salesforce: apex',\n",
    "    'una poronga',\n",
    "    'sap pi po is',\n",
    "    'tal',\n",
    "    'edi',\n",
    "    'microsoft excel',\n",
    "    'openedge abl',\n",
    "    'soql ',\n",
    "    'no trabajo con lenguajes sino que realizo diseño de arquitecturas a alto nivel',\n",
    "    'no hago programacion',\n",
    "    'wikimedia',\n",
    "    'actualmente me encuentro entre asignaciones',\n",
    "    'pero mi perfil en la empresa es de java y angularts',\n",
    "    'vb .net  y vb .6',\n",
    "    'lenguajes', \n",
    "    'lenguajes_array'\n",
    "}, inplace=True)\n",
    "\n",
    "# Vuelvo a Eliminar NaN en caso de que me hayan quedado\n",
    "final_df_encoded = final_df_encoded.dropna().reset_index(drop=True)\n"
   ]
  },
  {
   "cell_type": "markdown",
   "metadata": {},
   "source": [
    "## Informe sobre el DataSet ya limpio"
   ]
  },
  {
   "cell_type": "code",
   "execution_count": 19,
   "metadata": {},
   "outputs": [],
   "source": [
    "# Asignación\n",
    "df = final_df_encoded"
   ]
  },
  {
   "cell_type": "code",
   "execution_count": 20,
   "metadata": {},
   "outputs": [
    {
     "name": "stdout",
     "output_type": "stream",
     "text": [
      "(2958, 125)\n"
     ]
    }
   ],
   "source": [
    "# Forma\n",
    "print(df.shape)"
   ]
  },
  {
   "cell_type": "code",
   "execution_count": 21,
   "metadata": {},
   "outputs": [
    {
     "data": {
      "text/html": [
       "<div>\n",
       "<style scoped>\n",
       "    .dataframe tbody tr th:only-of-type {\n",
       "        vertical-align: middle;\n",
       "    }\n",
       "\n",
       "    .dataframe tbody tr th {\n",
       "        vertical-align: top;\n",
       "    }\n",
       "\n",
       "    .dataframe thead th {\n",
       "        text-align: right;\n",
       "    }\n",
       "</style>\n",
       "<table border=\"1\" class=\"dataframe\">\n",
       "  <thead>\n",
       "    <tr style=\"text-align: right;\">\n",
       "      <th></th>\n",
       "      <th>count</th>\n",
       "      <th>mean</th>\n",
       "      <th>std</th>\n",
       "      <th>min</th>\n",
       "      <th>25%</th>\n",
       "      <th>50%</th>\n",
       "      <th>75%</th>\n",
       "      <th>max</th>\n",
       "    </tr>\n",
       "  </thead>\n",
       "  <tbody>\n",
       "    <tr>\n",
       "      <th>anos_de_experiencia</th>\n",
       "      <td>2958.0</td>\n",
       "      <td>7.323191e+00</td>\n",
       "      <td>6.625981e+00</td>\n",
       "      <td>0.0</td>\n",
       "      <td>3.0</td>\n",
       "      <td>5.0</td>\n",
       "      <td>10.0</td>\n",
       "      <td>3.900000e+01</td>\n",
       "    </tr>\n",
       "    <tr>\n",
       "      <th>salario</th>\n",
       "      <td>2958.0</td>\n",
       "      <td>6.130852e+06</td>\n",
       "      <td>3.502636e+07</td>\n",
       "      <td>120000.0</td>\n",
       "      <td>1150000.0</td>\n",
       "      <td>1850000.0</td>\n",
       "      <td>3000000.0</td>\n",
       "      <td>1.105953e+09</td>\n",
       "    </tr>\n",
       "    <tr>\n",
       "      <th>html</th>\n",
       "      <td>2958.0</td>\n",
       "      <td>3.820149e-01</td>\n",
       "      <td>4.859623e-01</td>\n",
       "      <td>0.0</td>\n",
       "      <td>0.0</td>\n",
       "      <td>0.0</td>\n",
       "      <td>1.0</td>\n",
       "      <td>1.000000e+00</td>\n",
       "    </tr>\n",
       "    <tr>\n",
       "      <th>javascript</th>\n",
       "      <td>2958.0</td>\n",
       "      <td>5.463151e-01</td>\n",
       "      <td>4.979345e-01</td>\n",
       "      <td>0.0</td>\n",
       "      <td>0.0</td>\n",
       "      <td>1.0</td>\n",
       "      <td>1.0</td>\n",
       "      <td>1.000000e+00</td>\n",
       "    </tr>\n",
       "    <tr>\n",
       "      <th>php</th>\n",
       "      <td>2958.0</td>\n",
       "      <td>1.260987e-01</td>\n",
       "      <td>3.320167e-01</td>\n",
       "      <td>0.0</td>\n",
       "      <td>0.0</td>\n",
       "      <td>0.0</td>\n",
       "      <td>0.0</td>\n",
       "      <td>1.000000e+00</td>\n",
       "    </tr>\n",
       "    <tr>\n",
       "      <th>...</th>\n",
       "      <td>...</td>\n",
       "      <td>...</td>\n",
       "      <td>...</td>\n",
       "      <td>...</td>\n",
       "      <td>...</td>\n",
       "      <td>...</td>\n",
       "      <td>...</td>\n",
       "      <td>...</td>\n",
       "    </tr>\n",
       "    <tr>\n",
       "      <th>sqr</th>\n",
       "      <td>2958.0</td>\n",
       "      <td>3.380663e-04</td>\n",
       "      <td>1.838658e-02</td>\n",
       "      <td>0.0</td>\n",
       "      <td>0.0</td>\n",
       "      <td>0.0</td>\n",
       "      <td>0.0</td>\n",
       "      <td>1.000000e+00</td>\n",
       "    </tr>\n",
       "    <tr>\n",
       "      <th>vbscript</th>\n",
       "      <td>2958.0</td>\n",
       "      <td>3.380663e-04</td>\n",
       "      <td>1.838658e-02</td>\n",
       "      <td>0.0</td>\n",
       "      <td>0.0</td>\n",
       "      <td>0.0</td>\n",
       "      <td>0.0</td>\n",
       "      <td>1.000000e+00</td>\n",
       "    </tr>\n",
       "    <tr>\n",
       "      <th>blue prism</th>\n",
       "      <td>2958.0</td>\n",
       "      <td>3.380663e-04</td>\n",
       "      <td>1.838658e-02</td>\n",
       "      <td>0.0</td>\n",
       "      <td>0.0</td>\n",
       "      <td>0.0</td>\n",
       "      <td>0.0</td>\n",
       "      <td>1.000000e+00</td>\n",
       "    </tr>\n",
       "    <tr>\n",
       "      <th>poweshell</th>\n",
       "      <td>2958.0</td>\n",
       "      <td>3.380663e-04</td>\n",
       "      <td>1.838658e-02</td>\n",
       "      <td>0.0</td>\n",
       "      <td>0.0</td>\n",
       "      <td>0.0</td>\n",
       "      <td>0.0</td>\n",
       "      <td>1.000000e+00</td>\n",
       "    </tr>\n",
       "    <tr>\n",
       "      <th>classic asp</th>\n",
       "      <td>2958.0</td>\n",
       "      <td>3.380663e-04</td>\n",
       "      <td>1.838658e-02</td>\n",
       "      <td>0.0</td>\n",
       "      <td>0.0</td>\n",
       "      <td>0.0</td>\n",
       "      <td>0.0</td>\n",
       "      <td>1.000000e+00</td>\n",
       "    </tr>\n",
       "  </tbody>\n",
       "</table>\n",
       "<p>119 rows × 8 columns</p>\n",
       "</div>"
      ],
      "text/plain": [
       "                      count          mean           std       min        25%  \\\n",
       "anos_de_experiencia  2958.0  7.323191e+00  6.625981e+00       0.0        3.0   \n",
       "salario              2958.0  6.130852e+06  3.502636e+07  120000.0  1150000.0   \n",
       "html                 2958.0  3.820149e-01  4.859623e-01       0.0        0.0   \n",
       "javascript           2958.0  5.463151e-01  4.979345e-01       0.0        0.0   \n",
       "php                  2958.0  1.260987e-01  3.320167e-01       0.0        0.0   \n",
       "...                     ...           ...           ...       ...        ...   \n",
       "sqr                  2958.0  3.380663e-04  1.838658e-02       0.0        0.0   \n",
       "vbscript             2958.0  3.380663e-04  1.838658e-02       0.0        0.0   \n",
       "blue prism           2958.0  3.380663e-04  1.838658e-02       0.0        0.0   \n",
       "poweshell            2958.0  3.380663e-04  1.838658e-02       0.0        0.0   \n",
       "classic asp          2958.0  3.380663e-04  1.838658e-02       0.0        0.0   \n",
       "\n",
       "                           50%        75%           max  \n",
       "anos_de_experiencia        5.0       10.0  3.900000e+01  \n",
       "salario              1850000.0  3000000.0  1.105953e+09  \n",
       "html                       0.0        1.0  1.000000e+00  \n",
       "javascript                 1.0        1.0  1.000000e+00  \n",
       "php                        0.0        0.0  1.000000e+00  \n",
       "...                        ...        ...           ...  \n",
       "sqr                        0.0        0.0  1.000000e+00  \n",
       "vbscript                   0.0        0.0  1.000000e+00  \n",
       "blue prism                 0.0        0.0  1.000000e+00  \n",
       "poweshell                  0.0        0.0  1.000000e+00  \n",
       "classic asp                0.0        0.0  1.000000e+00  \n",
       "\n",
       "[119 rows x 8 columns]"
      ]
     },
     "execution_count": 21,
     "metadata": {},
     "output_type": "execute_result"
    }
   ],
   "source": [
    "# Describimos el DataSet\n",
    "df.describe().T"
   ]
  },
  {
   "cell_type": "code",
   "execution_count": 22,
   "metadata": {},
   "outputs": [
    {
     "data": {
      "text/html": [
       "<div>\n",
       "<style scoped>\n",
       "    .dataframe tbody tr th:only-of-type {\n",
       "        vertical-align: middle;\n",
       "    }\n",
       "\n",
       "    .dataframe tbody tr th {\n",
       "        vertical-align: top;\n",
       "    }\n",
       "\n",
       "    .dataframe thead th {\n",
       "        text-align: right;\n",
       "    }\n",
       "</style>\n",
       "<table border=\"1\" class=\"dataframe\">\n",
       "  <thead>\n",
       "    <tr style=\"text-align: right;\">\n",
       "      <th></th>\n",
       "      <th>lugar_residencia</th>\n",
       "      <th>dedicacion</th>\n",
       "      <th>tipo_de_contrato</th>\n",
       "      <th>posicion</th>\n",
       "      <th>anos_de_experiencia</th>\n",
       "      <th>maximo_nivel_de_estudios</th>\n",
       "      <th>seniority</th>\n",
       "      <th>salario</th>\n",
       "      <th>html</th>\n",
       "      <th>javascript</th>\n",
       "      <th>...</th>\n",
       "      <th>rexx</th>\n",
       "      <th>ssis</th>\n",
       "      <th>graphql</th>\n",
       "      <th>mulesoft</th>\n",
       "      <th>iron python</th>\n",
       "      <th>sqr</th>\n",
       "      <th>vbscript</th>\n",
       "      <th>blue prism</th>\n",
       "      <th>poweshell</th>\n",
       "      <th>classic asp</th>\n",
       "    </tr>\n",
       "  </thead>\n",
       "  <tbody>\n",
       "    <tr>\n",
       "      <th>0</th>\n",
       "      <td>Ciudad Autónoma de Buenos Aires</td>\n",
       "      <td>Full-Time</td>\n",
       "      <td>Staff (planta permanente)</td>\n",
       "      <td>Developer</td>\n",
       "      <td>3.0</td>\n",
       "      <td>Posgrado/Especialización</td>\n",
       "      <td>Semi-Senior</td>\n",
       "      <td>1700000.0</td>\n",
       "      <td>1.0</td>\n",
       "      <td>1.0</td>\n",
       "      <td>...</td>\n",
       "      <td>0.0</td>\n",
       "      <td>0.0</td>\n",
       "      <td>0.0</td>\n",
       "      <td>0.0</td>\n",
       "      <td>0.0</td>\n",
       "      <td>0.0</td>\n",
       "      <td>0.0</td>\n",
       "      <td>0.0</td>\n",
       "      <td>0.0</td>\n",
       "      <td>0.0</td>\n",
       "    </tr>\n",
       "    <tr>\n",
       "      <th>1</th>\n",
       "      <td>Buenos Aires</td>\n",
       "      <td>Full-Time</td>\n",
       "      <td>Staff (planta permanente)</td>\n",
       "      <td>Technical Leader</td>\n",
       "      <td>3.0</td>\n",
       "      <td>Universitario</td>\n",
       "      <td>Semi-Senior</td>\n",
       "      <td>2000000.0</td>\n",
       "      <td>0.0</td>\n",
       "      <td>1.0</td>\n",
       "      <td>...</td>\n",
       "      <td>0.0</td>\n",
       "      <td>0.0</td>\n",
       "      <td>0.0</td>\n",
       "      <td>0.0</td>\n",
       "      <td>0.0</td>\n",
       "      <td>0.0</td>\n",
       "      <td>0.0</td>\n",
       "      <td>0.0</td>\n",
       "      <td>0.0</td>\n",
       "      <td>0.0</td>\n",
       "    </tr>\n",
       "    <tr>\n",
       "      <th>2</th>\n",
       "      <td>Córdoba</td>\n",
       "      <td>Full-Time</td>\n",
       "      <td>Contractor</td>\n",
       "      <td>Data Engineer</td>\n",
       "      <td>5.0</td>\n",
       "      <td>Universitario</td>\n",
       "      <td>Semi-Senior</td>\n",
       "      <td>1000000.0</td>\n",
       "      <td>0.0</td>\n",
       "      <td>0.0</td>\n",
       "      <td>...</td>\n",
       "      <td>0.0</td>\n",
       "      <td>0.0</td>\n",
       "      <td>0.0</td>\n",
       "      <td>0.0</td>\n",
       "      <td>0.0</td>\n",
       "      <td>0.0</td>\n",
       "      <td>0.0</td>\n",
       "      <td>0.0</td>\n",
       "      <td>0.0</td>\n",
       "      <td>0.0</td>\n",
       "    </tr>\n",
       "    <tr>\n",
       "      <th>3</th>\n",
       "      <td>Ciudad Autónoma de Buenos Aires</td>\n",
       "      <td>Full-Time</td>\n",
       "      <td>Staff (planta permanente)</td>\n",
       "      <td>Developer</td>\n",
       "      <td>9.0</td>\n",
       "      <td>Universitario</td>\n",
       "      <td>Senior</td>\n",
       "      <td>850000.0</td>\n",
       "      <td>1.0</td>\n",
       "      <td>1.0</td>\n",
       "      <td>...</td>\n",
       "      <td>0.0</td>\n",
       "      <td>0.0</td>\n",
       "      <td>0.0</td>\n",
       "      <td>0.0</td>\n",
       "      <td>0.0</td>\n",
       "      <td>0.0</td>\n",
       "      <td>0.0</td>\n",
       "      <td>0.0</td>\n",
       "      <td>0.0</td>\n",
       "      <td>0.0</td>\n",
       "    </tr>\n",
       "    <tr>\n",
       "      <th>4</th>\n",
       "      <td>Ciudad Autónoma de Buenos Aires</td>\n",
       "      <td>Full-Time</td>\n",
       "      <td>Contractor</td>\n",
       "      <td>Technical Leader</td>\n",
       "      <td>5.0</td>\n",
       "      <td>Universitario</td>\n",
       "      <td>Semi-Senior</td>\n",
       "      <td>3300000.0</td>\n",
       "      <td>0.0</td>\n",
       "      <td>1.0</td>\n",
       "      <td>...</td>\n",
       "      <td>0.0</td>\n",
       "      <td>0.0</td>\n",
       "      <td>0.0</td>\n",
       "      <td>0.0</td>\n",
       "      <td>0.0</td>\n",
       "      <td>0.0</td>\n",
       "      <td>0.0</td>\n",
       "      <td>0.0</td>\n",
       "      <td>0.0</td>\n",
       "      <td>0.0</td>\n",
       "    </tr>\n",
       "    <tr>\n",
       "      <th>5</th>\n",
       "      <td>Córdoba</td>\n",
       "      <td>Full-Time</td>\n",
       "      <td>Contractor</td>\n",
       "      <td>Automatizador</td>\n",
       "      <td>0.0</td>\n",
       "      <td>Universitario</td>\n",
       "      <td>Junior</td>\n",
       "      <td>450000.0</td>\n",
       "      <td>0.0</td>\n",
       "      <td>1.0</td>\n",
       "      <td>...</td>\n",
       "      <td>0.0</td>\n",
       "      <td>0.0</td>\n",
       "      <td>0.0</td>\n",
       "      <td>0.0</td>\n",
       "      <td>0.0</td>\n",
       "      <td>0.0</td>\n",
       "      <td>0.0</td>\n",
       "      <td>0.0</td>\n",
       "      <td>0.0</td>\n",
       "      <td>0.0</td>\n",
       "    </tr>\n",
       "    <tr>\n",
       "      <th>6</th>\n",
       "      <td>Córdoba</td>\n",
       "      <td>Full-Time</td>\n",
       "      <td>Staff (planta permanente)</td>\n",
       "      <td>Technical Leader</td>\n",
       "      <td>9.0</td>\n",
       "      <td>Universitario</td>\n",
       "      <td>Senior</td>\n",
       "      <td>835469.0</td>\n",
       "      <td>1.0</td>\n",
       "      <td>1.0</td>\n",
       "      <td>...</td>\n",
       "      <td>0.0</td>\n",
       "      <td>0.0</td>\n",
       "      <td>0.0</td>\n",
       "      <td>0.0</td>\n",
       "      <td>0.0</td>\n",
       "      <td>0.0</td>\n",
       "      <td>0.0</td>\n",
       "      <td>0.0</td>\n",
       "      <td>0.0</td>\n",
       "      <td>0.0</td>\n",
       "    </tr>\n",
       "    <tr>\n",
       "      <th>7</th>\n",
       "      <td>Buenos Aires</td>\n",
       "      <td>Full-Time</td>\n",
       "      <td>Contractor</td>\n",
       "      <td>Technical Leader</td>\n",
       "      <td>3.0</td>\n",
       "      <td>Universitario</td>\n",
       "      <td>Semi-Senior</td>\n",
       "      <td>1050000.0</td>\n",
       "      <td>1.0</td>\n",
       "      <td>1.0</td>\n",
       "      <td>...</td>\n",
       "      <td>0.0</td>\n",
       "      <td>0.0</td>\n",
       "      <td>0.0</td>\n",
       "      <td>0.0</td>\n",
       "      <td>0.0</td>\n",
       "      <td>0.0</td>\n",
       "      <td>0.0</td>\n",
       "      <td>0.0</td>\n",
       "      <td>0.0</td>\n",
       "      <td>0.0</td>\n",
       "    </tr>\n",
       "    <tr>\n",
       "      <th>8</th>\n",
       "      <td>Ciudad Autónoma de Buenos Aires</td>\n",
       "      <td>Full-Time</td>\n",
       "      <td>Staff (planta permanente)</td>\n",
       "      <td>Developer</td>\n",
       "      <td>4.0</td>\n",
       "      <td>Universitario</td>\n",
       "      <td>Semi-Senior</td>\n",
       "      <td>860000.0</td>\n",
       "      <td>1.0</td>\n",
       "      <td>1.0</td>\n",
       "      <td>...</td>\n",
       "      <td>0.0</td>\n",
       "      <td>0.0</td>\n",
       "      <td>0.0</td>\n",
       "      <td>0.0</td>\n",
       "      <td>0.0</td>\n",
       "      <td>0.0</td>\n",
       "      <td>0.0</td>\n",
       "      <td>0.0</td>\n",
       "      <td>0.0</td>\n",
       "      <td>0.0</td>\n",
       "    </tr>\n",
       "    <tr>\n",
       "      <th>9</th>\n",
       "      <td>Corrientes</td>\n",
       "      <td>Full-Time</td>\n",
       "      <td>Contractor</td>\n",
       "      <td>Developer</td>\n",
       "      <td>15.0</td>\n",
       "      <td>Posgrado/Especialización</td>\n",
       "      <td>Senior</td>\n",
       "      <td>4000000.0</td>\n",
       "      <td>0.0</td>\n",
       "      <td>1.0</td>\n",
       "      <td>...</td>\n",
       "      <td>0.0</td>\n",
       "      <td>0.0</td>\n",
       "      <td>0.0</td>\n",
       "      <td>0.0</td>\n",
       "      <td>0.0</td>\n",
       "      <td>0.0</td>\n",
       "      <td>0.0</td>\n",
       "      <td>0.0</td>\n",
       "      <td>0.0</td>\n",
       "      <td>0.0</td>\n",
       "    </tr>\n",
       "  </tbody>\n",
       "</table>\n",
       "<p>10 rows × 125 columns</p>\n",
       "</div>"
      ],
      "text/plain": [
       "                  lugar_residencia dedicacion           tipo_de_contrato  \\\n",
       "0  Ciudad Autónoma de Buenos Aires  Full-Time  Staff (planta permanente)   \n",
       "1                     Buenos Aires  Full-Time  Staff (planta permanente)   \n",
       "2                          Córdoba  Full-Time                 Contractor   \n",
       "3  Ciudad Autónoma de Buenos Aires  Full-Time  Staff (planta permanente)   \n",
       "4  Ciudad Autónoma de Buenos Aires  Full-Time                 Contractor   \n",
       "5                          Córdoba  Full-Time                 Contractor   \n",
       "6                          Córdoba  Full-Time  Staff (planta permanente)   \n",
       "7                     Buenos Aires  Full-Time                 Contractor   \n",
       "8  Ciudad Autónoma de Buenos Aires  Full-Time  Staff (planta permanente)   \n",
       "9                       Corrientes  Full-Time                 Contractor   \n",
       "\n",
       "           posicion  anos_de_experiencia  maximo_nivel_de_estudios  \\\n",
       "0         Developer                  3.0  Posgrado/Especialización   \n",
       "1  Technical Leader                  3.0             Universitario   \n",
       "2     Data Engineer                  5.0             Universitario   \n",
       "3         Developer                  9.0             Universitario   \n",
       "4  Technical Leader                  5.0             Universitario   \n",
       "5     Automatizador                  0.0             Universitario   \n",
       "6  Technical Leader                  9.0             Universitario   \n",
       "7  Technical Leader                  3.0             Universitario   \n",
       "8         Developer                  4.0             Universitario   \n",
       "9         Developer                 15.0  Posgrado/Especialización   \n",
       "\n",
       "     seniority    salario  html  javascript  ...  rexx  ssis  graphql  \\\n",
       "0  Semi-Senior  1700000.0   1.0         1.0  ...   0.0   0.0      0.0   \n",
       "1  Semi-Senior  2000000.0   0.0         1.0  ...   0.0   0.0      0.0   \n",
       "2  Semi-Senior  1000000.0   0.0         0.0  ...   0.0   0.0      0.0   \n",
       "3       Senior   850000.0   1.0         1.0  ...   0.0   0.0      0.0   \n",
       "4  Semi-Senior  3300000.0   0.0         1.0  ...   0.0   0.0      0.0   \n",
       "5       Junior   450000.0   0.0         1.0  ...   0.0   0.0      0.0   \n",
       "6       Senior   835469.0   1.0         1.0  ...   0.0   0.0      0.0   \n",
       "7  Semi-Senior  1050000.0   1.0         1.0  ...   0.0   0.0      0.0   \n",
       "8  Semi-Senior   860000.0   1.0         1.0  ...   0.0   0.0      0.0   \n",
       "9       Senior  4000000.0   0.0         1.0  ...   0.0   0.0      0.0   \n",
       "\n",
       "   mulesoft   iron python  sqr  vbscript  blue prism  poweshell  classic asp  \n",
       "0        0.0          0.0  0.0       0.0         0.0        0.0          0.0  \n",
       "1        0.0          0.0  0.0       0.0         0.0        0.0          0.0  \n",
       "2        0.0          0.0  0.0       0.0         0.0        0.0          0.0  \n",
       "3        0.0          0.0  0.0       0.0         0.0        0.0          0.0  \n",
       "4        0.0          0.0  0.0       0.0         0.0        0.0          0.0  \n",
       "5        0.0          0.0  0.0       0.0         0.0        0.0          0.0  \n",
       "6        0.0          0.0  0.0       0.0         0.0        0.0          0.0  \n",
       "7        0.0          0.0  0.0       0.0         0.0        0.0          0.0  \n",
       "8        0.0          0.0  0.0       0.0         0.0        0.0          0.0  \n",
       "9        0.0          0.0  0.0       0.0         0.0        0.0          0.0  \n",
       "\n",
       "[10 rows x 125 columns]"
      ]
     },
     "execution_count": 22,
     "metadata": {},
     "output_type": "execute_result"
    }
   ],
   "source": [
    "# Perimeros 10 Registros\n",
    "df.head(10)"
   ]
  },
  {
   "cell_type": "code",
   "execution_count": null,
   "metadata": {},
   "outputs": [],
   "source": [
    "# Últimos 10 Registros\n",
    "df.tail(10)"
   ]
  },
  {
   "cell_type": "code",
   "execution_count": null,
   "metadata": {},
   "outputs": [],
   "source": [
    "# Mostramos que no hay valores nulos o vacíos\n",
    "msno.matrix(df)"
   ]
  },
  {
   "cell_type": "code",
   "execution_count": null,
   "metadata": {},
   "outputs": [],
   "source": [
    "# Algunas columnas\n",
    "print(df.columns)"
   ]
  },
  {
   "cell_type": "markdown",
   "metadata": {},
   "source": [
    "## Análisis de variables Categóricas\n",
    "\n",
    "- Por cada variable categórica mostramos la cantidad de dichas ocurrencias\n",
    "- Además usamos Scatterplot para mostrar la distribución de los valores por cada categoría"
   ]
  },
  {
   "cell_type": "code",
   "execution_count": null,
   "metadata": {},
   "outputs": [],
   "source": [
    "# Creamos un DF de soporte para poder mostrar los valores de Salario expresado en $1.000.000\n",
    "# df_copy = df\n",
    "# df_copy['salario_en_millones'] = df_copy['salario'] / 1000000\n",
    "# df_copy[['salario', 'salario_en_millones']]\n",
    "df['salario_en_millones'] = df['salario'] / 1000000\n",
    "df[['salario', 'salario_en_millones']]"
   ]
  },
  {
   "cell_type": "markdown",
   "metadata": {},
   "source": [
    "### Codificación de variables categóricas\n",
    "\n",
    "Para un mejor análisis posterior (los algoritmos deben trabajar con valores numéricos), debemos codificar (encoding) de las variables categóricas. Utilizaremos el LabelEncoder debido a que no es la idea agregar mas columnas al DataSet."
   ]
  },
  {
   "cell_type": "code",
   "execution_count": null,
   "metadata": {},
   "outputs": [],
   "source": [
    "# Ya que son Strings (cadenas de caracteres), utilizamos LabelEncoder\n",
    "encoder = LabelEncoder()\n",
    "df['seniority_encoded'] = encoder.fit_transform(df['seniority'])\n",
    "df['lugar_residencia_encoded'] = encoder.fit_transform(df['lugar_residencia'])\n",
    "df['dedicacion_encoded'] = encoder.fit_transform(df['dedicacion'])\n",
    "df['tipo_de_contrato_encoded'] = encoder.fit_transform(df['tipo_de_contrato'])\n",
    "df['maximo_nivel_de_estudios_encoded'] = encoder.fit_transform(df['maximo_nivel_de_estudios'])\n",
    "df[['seniority', 'seniority_encoded', \\\n",
    "    'lugar_residencia', 'lugar_residencia_encoded', \\\n",
    "    'dedicacion', 'dedicacion_encoded', \\\n",
    "    'tipo_de_contrato', 'tipo_de_contrato_encoded', \\\n",
    "    'maximo_nivel_de_estudios', 'maximo_nivel_de_estudios_encoded']]"
   ]
  },
  {
   "cell_type": "markdown",
   "metadata": {},
   "source": [
    "### Variable: Lugar de Residencia"
   ]
  },
  {
   "cell_type": "code",
   "execution_count": null,
   "metadata": {},
   "outputs": [],
   "source": [
    "df[['lugar_residencia', 'lugar_residencia_encoded']].value_counts()"
   ]
  },
  {
   "cell_type": "code",
   "execution_count": null,
   "metadata": {},
   "outputs": [],
   "source": [
    "ax = sns.displot(data=df['lugar_residencia'])\n",
    "ax.tick_params(axis='x', rotation=90)\n",
    "plt.title('Cantidad de Developers por Residencia')\n",
    "plt.show()"
   ]
  },
  {
   "cell_type": "code",
   "execution_count": null,
   "metadata": {},
   "outputs": [],
   "source": [
    "#Scatterplot\n",
    "ax = sns.scatterplot(df, x='lugar_residencia', y='salario_en_millones')\n",
    "ax.tick_params(axis='x', rotation=90)\n",
    "plt.title('Salarios en $1.000.000 por Residencia')\n",
    "plt.show()"
   ]
  },
  {
   "cell_type": "markdown",
   "metadata": {},
   "source": [
    "### Variable:Seniority"
   ]
  },
  {
   "cell_type": "code",
   "execution_count": null,
   "metadata": {},
   "outputs": [],
   "source": [
    "print(df[['seniority', 'seniority_encoded']].value_counts())"
   ]
  },
  {
   "cell_type": "code",
   "execution_count": null,
   "metadata": {},
   "outputs": [],
   "source": [
    "ax = sns.displot(data=df['seniority'])\n",
    "plt.title('Cantidad de Developers por Seniority')\n",
    "plt.show()"
   ]
  },
  {
   "cell_type": "markdown",
   "metadata": {},
   "source": [
    "### Variable: Dedicación"
   ]
  },
  {
   "cell_type": "code",
   "execution_count": null,
   "metadata": {},
   "outputs": [],
   "source": [
    "print(df[['dedicacion', 'dedicacion_encoded']].value_counts())"
   ]
  },
  {
   "cell_type": "code",
   "execution_count": null,
   "metadata": {},
   "outputs": [],
   "source": [
    "ax = sns.displot(data=df['dedicacion'])\n",
    "plt.title('Cantidad de Developers por Dedicación')\n",
    "plt.show()"
   ]
  },
  {
   "cell_type": "code",
   "execution_count": null,
   "metadata": {},
   "outputs": [],
   "source": [
    "ax = sns.scatterplot(df, x='dedicacion', y='salario_en_millones')\n",
    "ax.tick_params(axis='x', rotation=90)\n",
    "plt.title('Distribución de Salarios por Dedicación')\n",
    "plt.show()"
   ]
  },
  {
   "cell_type": "code",
   "execution_count": null,
   "metadata": {},
   "outputs": [],
   "source": []
  },
  {
   "cell_type": "markdown",
   "metadata": {},
   "source": [
    "### Variable: Tipo de Contrato"
   ]
  },
  {
   "cell_type": "code",
   "execution_count": null,
   "metadata": {},
   "outputs": [],
   "source": [
    "print(df[['tipo_de_contrato', 'tipo_de_contrato_encoded']].value_counts())"
   ]
  },
  {
   "cell_type": "code",
   "execution_count": null,
   "metadata": {},
   "outputs": [],
   "source": [
    "ax = sns.displot(data=df['tipo_de_contrato'])\n",
    "ax.tick_params(axis='x', rotation=90)\n",
    "plt.title('Cantidad de Developers por Tipo de Contrato')\n",
    "plt.show()"
   ]
  },
  {
   "cell_type": "code",
   "execution_count": null,
   "metadata": {},
   "outputs": [],
   "source": [
    "ax = sns.scatterplot(df, x='tipo_de_contrato', y='salario_en_millones')\n",
    "ax.tick_params(axis='x', rotation=90)\n",
    "plt.title('Distribución de Salarios por Tipo de Contrato')\n",
    "plt.show()"
   ]
  },
  {
   "cell_type": "markdown",
   "metadata": {},
   "source": [
    "### Variable: Máximo nivel de Estudio alcanzado"
   ]
  },
  {
   "cell_type": "code",
   "execution_count": null,
   "metadata": {},
   "outputs": [],
   "source": [
    "print(df[['maximo_nivel_de_estudios', 'maximo_nivel_de_estudios_encoded']].value_counts())"
   ]
  },
  {
   "cell_type": "code",
   "execution_count": null,
   "metadata": {},
   "outputs": [],
   "source": [
    "ax = sns.displot(data=df['maximo_nivel_de_estudios'])\n",
    "ax.tick_params(axis='x', rotation=90)\n",
    "plt.title('Cantidad de Developers por Nivel de Estudio')\n",
    "plt.show()"
   ]
  },
  {
   "cell_type": "code",
   "execution_count": null,
   "metadata": {},
   "outputs": [],
   "source": [
    "ax = sns.scatterplot(df, x='maximo_nivel_de_estudios', y='salario_en_millones')\n",
    "ax.tick_params(axis='x', rotation=90)\n",
    "plt.title('Distribución de Salarios por Nivel De Estudio')\n",
    "plt.show()"
   ]
  },
  {
   "cell_type": "markdown",
   "metadata": {},
   "source": [
    "### Variable: Años de Experiencia"
   ]
  },
  {
   "cell_type": "code",
   "execution_count": null,
   "metadata": {},
   "outputs": [],
   "source": [
    "print(df['anos_de_experiencia'].value_counts())"
   ]
  },
  {
   "cell_type": "code",
   "execution_count": null,
   "metadata": {},
   "outputs": [],
   "source": [
    "plt.figure(dpi = 120, figsize= (10,20))\n",
    "sns.displot(data=df['anos_de_experiencia'])\n",
    "plt.title('Cantidad de Developers por Años de Experiencia')\n",
    "plt.show()"
   ]
  },
  {
   "cell_type": "code",
   "execution_count": null,
   "metadata": {},
   "outputs": [],
   "source": [
    "ax = sns.scatterplot(df, x='anos_de_experiencia', y='salario_en_millones')\n",
    "ax.tick_params(axis='x', rotation=90)\n",
    "plt.title('Distribución de Salarios por Años de Experiencia')\n",
    "plt.show()"
   ]
  },
  {
   "cell_type": "markdown",
   "metadata": {},
   "source": [
    "## Primer Corrección\n",
    "\n",
    "Silvia Vilela:\n",
    "\n",
    "Hola Mauricio felicitaciones, muy buen trabajo!!. La exploracion de los datos es exhaustiva y la presentacion del trabajo es muy profesional. Como comentarios a incluir que me parece pueden sumnar al proyuecto son: la presencia concreta de las preguntas (hay una hilo conductor en el trabajo pero no se observan las preguntas por ejemplo Se suele pagar mas en Buenos Aires, etc. Luego hay algunos casos que se rellenan valores por un valor en particulñar pero no se indica porque razon(usualmente debe ser por mean, por mayor ocurrencia del mismo, pero nunca en forma aleatoria sin justificacion). Luego al final deberia existir una conlusion final que englobe todas las respuetsas obtenidas (3 al menos deberian ser contestadas en el trabajo). Dejo todos los criterios completos y cumplidos, por favor inclui estas mejoras en el TP para que el profe pueda verlas completas en la entrega final. Muy buen Trabajo Mauricio y excelente tu participacion en clase!"
   ]
  },
  {
   "cell_type": "markdown",
   "metadata": {},
   "source": [
    "Agregar:\n",
    "- Preguntas a resolver.\n",
    "- Conclusiones a cada paso.\n",
    "- Explicar porque rellenamos los valores nulos\n",
    "- Conclusión al final del EDA"
   ]
  },
  {
   "cell_type": "markdown",
   "metadata": {},
   "source": [
    "## Manejo de Outliers\n",
    "\n",
    "Se identifican los outliers en el DataFrame, se procede a eliminarlos debido a que son considerados \"Bad Data\""
   ]
  },
  {
   "cell_type": "code",
   "execution_count": null,
   "metadata": {},
   "outputs": [],
   "source": [
    "# Outliers\n",
    "\n",
    "Q1 = df['salario_en_millones'].quantile(0.25)\n",
    "Q3 = df['salario_en_millones'].quantile(0.75)\n",
    "IQR = Q3 - Q1\n",
    "\n",
    "threshold = 1.5\n",
    "outliers = df[(df['salario_en_millones'] < Q1 - threshold * IQR) | (df['salario_en_millones'] > Q3 + threshold * IQR)]\n",
    "\n",
    "df = df.drop(outliers.index)"
   ]
  },
  {
   "cell_type": "markdown",
   "metadata": {},
   "source": [
    "## Mostramos nuevamente los gráficos por categoría"
   ]
  },
  {
   "cell_type": "markdown",
   "metadata": {},
   "source": [
    "### Variable Seniority"
   ]
  },
  {
   "cell_type": "code",
   "execution_count": null,
   "metadata": {},
   "outputs": [],
   "source": [
    "plt.subplots(figsize=(5, 5), dpi =200)\n",
    "sns.set(style = \"white\")\n",
    "ax = sns.boxplot(data=df, x=df['seniority'], y=df[\"salario_en_millones\"])\n",
    "plt.title('Salarios en $1.000.000 por Seniority')\n",
    "plt.show()"
   ]
  },
  {
   "cell_type": "markdown",
   "metadata": {},
   "source": [
    "### Variable Dedicación"
   ]
  },
  {
   "cell_type": "code",
   "execution_count": null,
   "metadata": {},
   "outputs": [],
   "source": [
    "plt.subplots(figsize=(5, 5), dpi =200)\n",
    "sns.set(style = \"white\")\n",
    "ax = sns.boxplot(data=df, x=df['dedicacion'], y=df[\"salario_en_millones\"])\n",
    "plt.title('Salarios en $1.000.000 por Dedicación')\n",
    "plt.show()"
   ]
  },
  {
   "cell_type": "markdown",
   "metadata": {},
   "source": [
    "### Variable Tipo de Contrato"
   ]
  },
  {
   "cell_type": "code",
   "execution_count": null,
   "metadata": {},
   "outputs": [],
   "source": [
    "plt.subplots(figsize=(5, 5), dpi =200)\n",
    "sns.set(style = \"white\")\n",
    "ax = sns.boxplot(data=df, x=df['tipo_de_contrato'], y=df[\"salario_en_millones\"])\n",
    "ax.tick_params(axis='x', rotation=90)\n",
    "plt.title('Salarios en $1.000.000 por Dedicación')\n",
    "plt.show()"
   ]
  },
  {
   "cell_type": "markdown",
   "metadata": {},
   "source": [
    "### Variable Máximo nivel de estudio alcanzado"
   ]
  },
  {
   "cell_type": "code",
   "execution_count": null,
   "metadata": {},
   "outputs": [],
   "source": [
    "plt.subplots(figsize=(5, 5), dpi =200)\n",
    "sns.set(style = \"white\")\n",
    "ax = sns.boxplot(data=df, x=df['maximo_nivel_de_estudios'], y=df[\"salario_en_millones\"])\n",
    "ax.tick_params(axis='x', rotation=90)\n",
    "plt.title('Salarios en $1.000.000 por Nivel de Estudio alcanzado')\n",
    "plt.show()"
   ]
  },
  {
   "cell_type": "markdown",
   "metadata": {},
   "source": [
    "### Mapa de Calor para ver la relación entre dichas variables\n",
    "\n",
    "Utilizamos un mapa de calor para intentar averiguar si hay alguna correlación entre las variables codificadas y nuestra variable target (Salario)\n"
   ]
  },
  {
   "cell_type": "code",
   "execution_count": null,
   "metadata": {},
   "outputs": [],
   "source": [
    "#Correlaciones\n",
    "plt.figure(dpi = 120,figsize= (5,4))\n",
    "sns.heatmap(df[['seniority_encoded', 'lugar_residencia_encoded', 'dedicacion_encoded', \\\n",
    "    'tipo_de_contrato_encoded', 'maximo_nivel_de_estudios_encoded', 'salario']].corr(), fmt = \".2f\", annot=True, lw=1, cmap = 'plasma')\n",
    "plt.yticks(rotation = 0)\n",
    "plt.xticks(rotation = 90)\n",
    "plt.title('Correlación entre Variables Categóricas')\n",
    "plt.show()"
   ]
  },
  {
   "cell_type": "markdown",
   "metadata": {},
   "source": [
    "Conclusión: como se puede apreciar en el gráfico vemos que la feature SENIORITY es la que mas influye sobre el Salario, cosa que tiene sentido porque los salarios cambian mucho cuando un Developer es Senior / SemiSenior / Junior"
   ]
  }
 ],
 "metadata": {
  "kernelspec": {
   "display_name": "coderhouse",
   "language": "python",
   "name": "python3"
  },
  "language_info": {
   "codemirror_mode": {
    "name": "ipython",
    "version": 3
   },
   "file_extension": ".py",
   "mimetype": "text/x-python",
   "name": "python",
   "nbconvert_exporter": "python",
   "pygments_lexer": "ipython3",
   "version": "3.13.0"
  }
 },
 "nbformat": 4,
 "nbformat_minor": 2
}
